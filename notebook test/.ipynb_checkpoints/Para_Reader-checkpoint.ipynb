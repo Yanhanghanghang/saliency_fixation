{
 "cells": [
  {
   "cell_type": "code",
   "execution_count": 7,
   "metadata": {},
   "outputs": [
    {
     "name": "stdout",
     "output_type": "stream",
     "text": [
      "('conv1/biases', [16])\n",
      "('local3/weights', [4096, 1470])\n",
      "('conv1/weights', [3, 3, 3, 16])\n",
      "('local1/weights', [50176, 256])\n",
      "('conv2/biases', [32])\n",
      "('conv2/weights', [3, 3, 16, 32])\n",
      "('conv3/weights', [3, 3, 32, 64])\n",
      "('conv5/weights', [3, 3, 128, 256])\n",
      "('conv4/biases', [128])\n",
      "('conv4/weights', [3, 3, 64, 128])\n",
      "('conv6/biases', [512])\n",
      "('conv7/biases', [1024])\n",
      "('conv5/biases', [256])\n",
      "('local2/weights', [256, 4096])\n",
      "('local1/biases', [256])\n",
      "('conv8/biases', [1024])\n",
      "('conv9/weights', [3, 3, 1024, 1024])\n",
      "('local3/biases', [1470])\n",
      "('conv9/biases', [1024])\n",
      "('conv6/weights', [3, 3, 256, 512])\n",
      "('conv8/weights', [3, 3, 1024, 1024])\n",
      "('conv7/weights', [3, 3, 512, 1024])\n",
      "('conv3/biases', [64])\n",
      "('local2/biases', [4096])\n"
     ]
    }
   ],
   "source": [
    "import tensorflow as tf\n",
    "from tensorflow.python import pywrap_tensorflow\n",
    "\n",
    "model_dir = \"/Users/yanhang/Desktop/saliency/yolo_tiny_param/yolo_tiny.ckpt\"\n",
    "\n",
    "reader = pywrap_tensorflow.NewCheckpointReader(model_dir)\n",
    "yolo_param_dict = reader.get_variable_to_shape_map()\n",
    "\n",
    "for key in yolo_param_dict.items():\n",
    "    try:\n",
    "        print(key)\n",
    "    except:\n",
    "        pass"
   ]
  },
  {
   "cell_type": "code",
   "execution_count": null,
   "metadata": {},
   "outputs": [],
   "source": []
  }
 ],
 "metadata": {
  "kernelspec": {
   "display_name": "Python 3",
   "language": "python",
   "name": "python3"
  },
  "language_info": {
   "codemirror_mode": {
    "name": "ipython",
    "version": 3
   },
   "file_extension": ".py",
   "mimetype": "text/x-python",
   "name": "python",
   "nbconvert_exporter": "python",
   "pygments_lexer": "ipython3",
   "version": "3.7.3"
  }
 },
 "nbformat": 4,
 "nbformat_minor": 2
}
