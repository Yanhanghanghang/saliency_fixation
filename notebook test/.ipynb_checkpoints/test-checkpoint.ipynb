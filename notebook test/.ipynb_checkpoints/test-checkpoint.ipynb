{
 "cells": [
  {
   "cell_type": "code",
   "execution_count": 45,
   "metadata": {},
   "outputs": [
    {
     "name": "stdout",
     "output_type": "stream",
     "text": [
      "[1, 2, 3, 4]\n",
      "[1, 2, 3]\n",
      "[1, 2]\n",
      "[1, 2, 1]\n",
      "[1, 2, 1, 1]\n",
      "[1, 2, 1, 1, 1]\n",
      "3\n",
      "[1, 2, 3, 4, 5]\n"
     ]
    }
   ],
   "source": [
    "import keras.backend as K\n",
    "import tensorflow as tf\n",
    "import numpy as np\n",
    "\n",
    "a = np.ones([1,2,3,4,5])\n",
    "maximum = K.expand_dims(K.repeat_elements(\n",
    "        K.expand_dims(K.repeat_elements(K.expand_dims(K.max(a, axis=[2, 3, 4])), a.shape[2], axis=2)),\n",
    "       a.shape[3], axis=3))\n",
    "\n",
    "maximum_tf = a\n",
    "for i in range(4, 1, -1):\n",
    "    maximum_tf = tf.reduce_max(maximum_tf, axis=i)\n",
    "    print(maximum_tf.get_shape().as_list())\n",
    "\n",
    "for i in range(2, 5):\n",
    "    maximum_tf = tf.expand_dims(maximum_tf, axis=i)\n",
    "    print(maximum_tf.get_shape().as_list())\n",
    "\n",
    "\n",
    "maximum_tf = tf.tile(maximum_tf, [1, 1, a.shape[2], a.shape[3], a.shape[4]])\n",
    "print(maximum_tf.get_shape().as_list())\n",
    "\n",
    "\n",
    "#b = a / maximum_tf"
   ]
  },
  {
   "cell_type": "code",
   "execution_count": null,
   "metadata": {},
   "outputs": [],
   "source": []
  },
  {
   "cell_type": "code",
   "execution_count": null,
   "metadata": {},
   "outputs": [],
   "source": []
  }
 ],
 "metadata": {
  "kernelspec": {
   "display_name": "Python 3",
   "language": "python",
   "name": "python3"
  },
  "language_info": {
   "codemirror_mode": {
    "name": "ipython",
    "version": 3
   },
   "file_extension": ".py",
   "mimetype": "text/x-python",
   "name": "python",
   "nbconvert_exporter": "python",
   "pygments_lexer": "ipython3",
   "version": "3.7.3"
  }
 },
 "nbformat": 4,
 "nbformat_minor": 2
}
